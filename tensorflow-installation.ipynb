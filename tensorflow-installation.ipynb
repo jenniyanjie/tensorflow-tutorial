{
 "cells": [
  {
   "cell_type": "markdown",
   "metadata": {},
   "source": [
    "### install tensorflow\n",
    "\n",
    "##### step 1. install pip\n",
    "```shell\n",
    "# Mac OS X\n",
    "$ sudo easy_install pip\n",
    "$ sudo easy_install --upgrade six\n",
    "```\n",
    "\n",
    "if you want to install tensorflow in your native environment, then just\n",
    "```shell\n",
    "$ pip install tensorflow\n",
    "```\n",
    "done!\n",
    "but it is highly recommended to install tensorflow in virtualenv. Virtualenv is a virtual Python environment isolated from other Python development, incapable of interfering with or being affected by other Python programs on the same machine.\n",
    "\n",
    "##### step 2. install virtualenv\n",
    "since I have installed anaconda, so I have to use conda way to install virtualenv([reference](http://uoa-eresearch.github.io/eresearch-cookbook/recipe/2014/11/20/conda/)): \n",
    "```shell\n",
    "# check the version of conda and python\n",
    "$ conda -V\n",
    "conda 4.3.30\n",
    "$ python --version\n",
    "Python 2.7.13 :: Anaconda 4.4.0 (x86_64)\n",
    "\n",
    "# update conda\n",
    "$ conda update conda\n",
    "# create the virtual environment for tensorflow\n",
    "$ conda create -n tensorflow python=2.7 anaconda\n",
    "\n",
    "# To activate this environment, use:\n",
    "$ source activate tensorflow\n",
    "# To deactivate an active environment, use:\n",
    "$ source deactivate\n",
    "\n",
    "# active the tensorflow environment, and then install pip and tensorflow\n",
    "(tensorflow)$ easy_install -U pip\n",
    "(tensorflow)$ pip install --upgrade tensorflow\n",
    "# check if your installation has been successful: \n",
    "$ python -c 'import tensorflow as tf; print(tf.__version__)'  # for Python 2\n",
    "```\n",
    "\n",
    "\n"
   ]
  },
  {
   "cell_type": "code",
   "execution_count": null,
   "metadata": {
    "collapsed": true
   },
   "outputs": [],
   "source": []
  }
 ],
 "metadata": {
  "kernelspec": {
   "display_name": "Python 2",
   "language": "python",
   "name": "python2"
  },
  "language_info": {
   "codemirror_mode": {
    "name": "ipython",
    "version": 2
   },
   "file_extension": ".py",
   "mimetype": "text/x-python",
   "name": "python",
   "nbconvert_exporter": "python",
   "pygments_lexer": "ipython2",
   "version": "2.7.13"
  }
 },
 "nbformat": 4,
 "nbformat_minor": 2
}
